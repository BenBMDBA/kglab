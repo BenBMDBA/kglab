{
 "cells": [
  {
   "cell_type": "markdown",
   "metadata": {},
   "source": [
    "# Graph Algebra with `kglab`\n",
    "\n",
    "## intro\n",
    "`kglab` provides tools to access graph data from multiple source to build a `KnowledgeGraph` that can be easily used by data scientists. For a thorough explanation of how to use triples-stored data and how to load this data into `kglab` please see examples in the `examples/` directory. The examples in this directory (`examples/graph_algebra/`) will care to introduce graph algebra capabilities to be used on the graphs the user has loaded. \n",
    "\n",
    "## basic load and querying\n",
    "In particular, once your data is loaded in a `KnowledgeGraph` with something like:\n",
    "\n",
    "1. Instantiate a graph from a dataset:"
   ]
  },
  {
   "cell_type": "code",
   "execution_count": 1,
   "metadata": {},
   "outputs": [
    {
     "data": {
      "text/plain": [
       "<kglab.kglab.KnowledgeGraph at 0x7f81f001ddf0>"
      ]
     },
     "execution_count": 1,
     "metadata": {},
     "output_type": "execute_result"
    }
   ],
   "source": [
    "# for use in tutorial and development; do not include this `sys.path` change in production:\n",
    "import sys ; sys.path.insert(0, \"../../\")\n",
    "import warnings\n",
    "warnings.filterwarnings('ignore')\n",
    "\n",
    "from os.path import dirname\n",
    "import kglab\n",
    "import os\n",
    "\n",
    "namespaces = {\n",
    "    \"foaf\": \"http://xmlns.com/foaf/0.1/\",\n",
    "    \"gorm\": \"http://example.org/sagas#\",\n",
    "    \"rel\":  \"http://purl.org/vocab/relationship/\",\n",
    "    }\n",
    "\n",
    "kg = kglab.KnowledgeGraph(\n",
    "    name = \"Happy Vikings KG example for SKOS/OWL inference\",\n",
    "    namespaces=namespaces,\n",
    "    )\n",
    "\n",
    "kg.load_rdf(dirname(dirname(os.getcwd())) + \"/dat/gorm.ttl\")"
   ]
  },
  {
   "cell_type": "markdown",
   "metadata": {},
   "source": [
    "\n",
    "2. It is possible to create a subgraph by providing a SPARQL query, by defining a \"subject\" and \"object\":\n"
   ]
  },
  {
   "cell_type": "code",
   "execution_count": 2,
   "metadata": {},
   "outputs": [],
   "source": [
    "query = \"\"\"SELECT ?subject ?object\n",
    "WHERE {\n",
    "    ?subject rdf:type gorm:Viking .\n",
    "    ?subject gorm:childOf ?object .\n",
    "}\n",
    "\"\"\""
   ]
  },
  {
   "cell_type": "markdown",
   "metadata": {},
   "source": [
    "\n",
    "## define a subgraph\n",
    "In this case we are looking for the network of parent-child relations among members of Vikings family.\n",
    "\n",
    "With this query we can define a __*subgraph* so to have access to *graph algebra* capabilities__: "
   ]
  },
  {
   "cell_type": "code",
   "execution_count": 3,
   "metadata": {},
   "outputs": [],
   "source": [
    "from kglab.subg import SubgraphMatrix\n",
    "\n",
    "subgraph = SubgraphMatrix(kg=kg, sparql=query)\n"
   ]
  },
  {
   "cell_type": "markdown",
   "metadata": {},
   "source": [
    "## compute Adjacency matrices\n",
    "Let's compute the first basic adjacency matrix (usually noted with `A`):"
   ]
  },
  {
   "cell_type": "code",
   "execution_count": 4,
   "metadata": {},
   "outputs": [
    {
     "data": {
      "text/plain": [
       "array([[0., 1., 1., 0., 0.],\n",
       "       [0., 0., 0., 1., 0.],\n",
       "       [0., 0., 0., 0., 0.],\n",
       "       [0., 0., 0., 0., 1.],\n",
       "       [0., 0., 0., 0., 0.]])"
      ]
     },
     "execution_count": 4,
     "metadata": {},
     "output_type": "execute_result"
    }
   ],
   "source": [
    "adj_matrix = subgraph.to_adjacency()\n",
    "adj_matrix"
   ]
  },
  {
   "cell_type": "markdown",
   "metadata": {},
   "source": [
    "what happened here is that all the subjects and objects have been turned into integer indices from 0 to number of nodes. So we can see that the entity with index 0 is adjancent (is connected, has a directed edge) to the entity with index 1. This is a directed graph because the relationship `gorm:childOf` goes from child to parent, let's turn this into an undirected graph so to see the relation in a more symmetric way (both the child-parent and parent-child).\n",
    "\n",
    "We can check the labels attached to the matrix's indices with:"
   ]
  },
  {
   "cell_type": "code",
   "execution_count": 5,
   "metadata": {},
   "outputs": [
    {
     "name": "stdout",
     "output_type": "stream",
     "text": [
      "http://example.org/sagas#Astrid\n",
      "http://example.org/sagas#Leif\n",
      "http://example.org/sagas#Bodil\n",
      "http://example.org/sagas#Bjorn\n",
      "http://example.org/sagas#Gorm\n"
     ]
    }
   ],
   "source": [
    "for i in range(adj_matrix.shape[0]):\n",
    "    print(\n",
    "        subgraph.inverse_transform(i)  # returns a label from an index\n",
    "    )"
   ]
  },
  {
   "cell_type": "markdown",
   "metadata": {},
   "source": [
    "We can see from the matrix, assigning labels to the indices, for examples that: Leif and Bodil are child of Astrid.\n",
    "\n",
    "This is one of the great functionality provided by the semantic layer (data that is represented by W3C Linked Data standard), to represent relationships in both human-understandable and machine-readable way.\n",
    "\n",
    "## other relevant matrices for a graph\n",
    "\n",
    "To compute the *vertices degrees matrix* we need to port our directed graph (semantic data graph are always directed as by design triples are `subject->relation->object`) into an undirected ones. This obviously preserve the existence of the relationships but not their direction."
   ]
  },
  {
   "cell_type": "code",
   "execution_count": 6,
   "metadata": {},
   "outputs": [
    {
     "data": {
      "text/plain": [
       "array([[0., 1., 1., 0., 0.],\n",
       "       [1., 0., 0., 1., 0.],\n",
       "       [1., 0., 0., 0., 0.],\n",
       "       [0., 1., 0., 0., 1.],\n",
       "       [0., 0., 0., 1., 0.]])"
      ]
     },
     "execution_count": 6,
     "metadata": {},
     "output_type": "execute_result"
    }
   ],
   "source": [
    "undirected_adj_mtx = subgraph.to_undirected()\n",
    "undirected_adj_mtx"
   ]
  },
  {
   "cell_type": "markdown",
   "metadata": {},
   "source": [
    "We can see now the relationship is a generic symmetric \"parenthood\" relations, not just a child-parent directed relationship. We can still say that: Leif and Bodil and Astrid are first-degree kins (parent-child or siblings). \n",
    "\n",
    "Same easy way we can compute the vertices degrees matrix:"
   ]
  },
  {
   "cell_type": "code",
   "execution_count": 7,
   "metadata": {},
   "outputs": [
    {
     "data": {
      "text/plain": [
       "array([[ 2, -1, -1,  0,  0],\n",
       "       [-1,  2,  0, -1,  0],\n",
       "       [-1,  0,  1,  0,  0],\n",
       "       [ 0, -1,  0,  2, -1],\n",
       "       [ 0,  0,  0, -1,  1]])"
      ]
     },
     "execution_count": 7,
     "metadata": {},
     "output_type": "execute_result"
    }
   ],
   "source": [
    "laplacian = subgraph.to_laplacian()\n",
    "laplacian"
   ]
  },
  {
   "cell_type": "code",
   "execution_count": 8,
   "metadata": {},
   "outputs": [
    {
     "data": {
      "text/plain": [
       "{'n_nodes': 5,\n",
       " 'n_edges': 4,\n",
       " 'center_msg': 'Found infinite path length because the digraph is not strongly connected',\n",
       " 'diameter_msg': 'Found infinite path length because the digraph is not strongly connected',\n",
       " 'eccentricity_msg': 'Found infinite path length because the digraph is not strongly connected',\n",
       " 'center': None,\n",
       " 'diameter': None,\n",
       " 'eccentricity': None}"
      ]
     },
     "execution_count": 8,
     "metadata": {},
     "output_type": "execute_result"
    }
   ],
   "source": [
    "subgraph.describe()"
   ]
  }
 ],
 "metadata": {
  "kernelspec": {
   "display_name": "Python 3.8.10 64-bit ('.venv': venv)",
   "language": "python",
   "name": "python3"
  },
  "language_info": {
   "codemirror_mode": {
    "name": "ipython",
    "version": 3
   },
   "file_extension": ".py",
   "mimetype": "text/x-python",
   "name": "python",
   "nbconvert_exporter": "python",
   "pygments_lexer": "ipython3",
   "version": "3.8.10"
  },
  "orig_nbformat": 4,
  "vscode": {
   "interpreter": {
    "hash": "de68f9b565e1e230f4433adb1a318d8f3a0dfad0917fa0c696727472c8ddadbf"
   }
  }
 },
 "nbformat": 4,
 "nbformat_minor": 2
}
