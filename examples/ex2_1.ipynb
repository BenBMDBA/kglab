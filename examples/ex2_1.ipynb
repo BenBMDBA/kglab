{
 "cells": [
  {
   "cell_type": "code",
   "execution_count": 9,
   "metadata": {},
   "outputs": [],
   "source": [
    "# for use in tutorial and development; do not include this `sys.path` change in production:\n",
    "import sys ; sys.path.insert(0, \"../\")"
   ]
  },
  {
   "cell_type": "markdown",
   "metadata": {},
   "source": [
    "# Load data via Morph-KGC\n",
    "\n",
    "> [`morph-kgc`](https://github.com/oeg-upm/morph-kgc) is an engine that constructs RDF knowledge graphs from heterogeneous data sources with [R2RML](https://www.w3.org/2001/sw/rdb2rdf/r2rml/) and [RML](https://rml.io/specs/rml/) mapping languages. Morph-KGC is built on top of pandas and it leverages mapping partitions to significantly reduce execution times and memory consumption for large data sources.\n",
    "\n",
    "For documentation see <https://github.com/oeg-upm/Morph-KGC/wiki/Usage>"
   ]
  },
  {
   "cell_type": "markdown",
   "metadata": {},
   "source": [
    "This example uses a simple SQLite database as input, transforming it into an RDF knowledge graph based on an R2RML mapping for relations between \"students\" and \"sports\".\n",
    "\n",
    "First, let's visualize the sample database:"
   ]
  },
  {
   "cell_type": "raw",
   "metadata": {},
   "source": [
    "CREATE TABLE \"Student\" (\n",
    "  \"ID\" integer PRIMARY KEY,\n",
    "  \"FirstName\" varchar(50),\n",
    "  \"LastName\" varchar(50)\n",
    ");\n",
    "\n",
    "CREATE TABLE \"Sport\" (\n",
    "  \"ID\" integer PRIMARY KEY,\n",
    "  \"Description\" varchar(50)\n",
    ");\n",
    "\n",
    "CREATE TABLE \"Student_Sport\" (\n",
    "  \"ID_Student\" integer,\n",
    "  \"ID_Sport\" integer,\n",
    "  PRIMARY KEY (\"ID_Student\",\"ID_Sport\"),\n",
    "  FOREIGN KEY (\"ID_Student\") REFERENCES \"Student\"(\"ID\"),\n",
    "  FOREIGN KEY (\"ID_Sport\") REFERENCES \"Sport\"(\"ID\")\n",
    ");\n",
    "\n",
    "INSERT INTO \"Student\" (\"ID\",\"FirstName\",\"LastName\") VALUES (10,'Venus', 'Williams');\n",
    "INSERT INTO \"Student\" (\"ID\",\"FirstName\",\"LastName\") VALUES (11,'Fernando', 'Alonso');\n",
    "INSERT INTO \"Student\" (\"ID\",\"FirstName\",\"LastName\") VALUES (12,'David', 'Villa');\n",
    "\n",
    "INSERT INTO \"Sport\" (\"ID\", \"Description\") VALUES (110,'Tennis');\n",
    "INSERT INTO \"Sport\" (\"ID\", \"Description\") VALUES (111,'Football');\n",
    "INSERT INTO \"Sport\" (\"ID\", \"Description\") VALUES (112,'Formula1');\n",
    "\n",
    "INSERT INTO \"Student_Sport\" (\"ID_Student\", \"ID_Sport\") VALUES (10,110);\n",
    "INSERT INTO \"Student_Sport\" (\"ID_Student\", \"ID_Sport\") VALUES (11,111);\n",
    "INSERT INTO \"Student_Sport\" (\"ID_Student\", \"ID_Sport\") VALUES (11,112);\n",
    "INSERT INTO \"Student_Sport\" (\"ID_Student\", \"ID_Sport\") VALUES (12,111);"
   ]
  },
  {
   "cell_type": "markdown",
   "metadata": {},
   "source": [
    "This has three tables plus the data to populate them.\n",
    "\n",
    "`Morph-KGC` needs a configuration to describe the mapping, so let's create a basic one for our example:"
   ]
  },
  {
   "cell_type": "code",
   "execution_count": 16,
   "metadata": {},
   "outputs": [],
   "source": [
    "import os\n",
    "\n",
    "config = f\"\"\"\n",
    "[StudentSportDB]\n",
    "mappings={os.path.dirname(os.getcwd())}/dat/student_sport.r2rml.ttl\n",
    "db_url=sqlite:///{os.path.dirname(os.getcwd())}/dat/student_sport.db\n",
    "         \"\"\""
   ]
  },
  {
   "cell_type": "markdown",
   "metadata": {},
   "source": [
    "You can see how to create this config file in the [docs](https://github.com/oeg-upm/Morph-KGC/wiki/Configuration).\n",
    "\n",
    "Alternatively, you provide a path to a config file, for example:\n",
    "```\n",
    "config = \"path/to/config.ini\"\n",
    "```"
   ]
  },
  {
   "cell_type": "markdown",
   "metadata": {},
   "source": [
    "This config references a `R2RML` mapping (`student_sport.r2rml.ttl`) that is applied to the input data. One way to create such a mapping is [YARRRML](https://rml.io/yarrrml/), \"a human-friendly text-based representation of RML rules\". You write the rules in YAML and then transform it with a yarrrml-parser to a `RML` or `R2RML` file. There is a [browser-based version](https://rml.io/yarrrml/matey/#) to get an idea how it works.\n",
    "\n",
    "The YARRRML file needed for this example can be found in `dat/` to use on the sample database:\n",
    "\n",
    "```YML\n",
    "prefixes:\n",
    "  ns1: \"http://example.com/\"\n",
    "\n",
    "sources:\n",
    "  students:\n",
    "    queryFormulation: mysql\n",
    "    query: select * from Student left join Student_Sport on Student.ID = Student_Sport.ID_Student left join Sport on Sport.ID = Student_Sport.ID_Sport;\n",
    "\n",
    "mappings:\n",
    "  student:\n",
    "    sources: students\n",
    "    s: http://example.com/$(ID_Student)\n",
    "    po:\n",
    "      - [a, ns1:Student]\n",
    "      - [ns1:firstName, $(FirstName)]\n",
    "      - [ns1:lastName, $(LastName)]\n",
    "      - p: ns1:plays\n",
    "        o: \n",
    "        - mapping: sport\n",
    "          condition:\n",
    "            function: equal\n",
    "            parameters:\n",
    "              - [str1, $(ID_Sport)]\n",
    "              - [str2, $(ID_Sport)]\n",
    "  sport:\n",
    "    sources: students\n",
    "    s: http://example.com/$(ID_Sport)\n",
    "    po:\n",
    "      - [a, ns1:Sport]\n",
    "      - [ns1:description, $(Description)]\n",
    "      - [ns1:id, $(ID_Sport)]\n",
    "```"
   ]
  },
  {
   "cell_type": "markdown",
   "metadata": {},
   "source": [
    "After using the yarrrml-parser with `yarrrml-parser -i student_sport.yml -o student_sport.r2rml.ttl -f R2RML` you get `students_sport.r2rml.ttl`. This is the file you refer in the configuration for `Morph-KGC`."
   ]
  },
  {
   "cell_type": "markdown",
   "metadata": {},
   "source": [
    "Next we'll use `morph-kgc` to load the RDF data from the SQLite based on an R2RML mapping:"
   ]
  },
  {
   "cell_type": "code",
   "execution_count": 17,
   "metadata": {},
   "outputs": [
    {
     "name": "stderr",
     "output_type": "stream",
     "text": [
      "INFO | 2022-03-22 10:14:42,617 | 7 mapping rules retrieved.\n",
      "INFO | 2022-03-22 10:14:42,622 | Mapping partition with 1 groups generated.\n",
      "INFO | 2022-03-22 10:14:42,622 | Maximum number of rules within mapping group: 7.\n",
      "INFO | 2022-03-22 10:14:42,623 | Mappings processed in 0.131 seconds.\n",
      "INFO | 2022-03-22 10:14:42,709 | Number of triples generated in total: 22.\n"
     ]
    }
   ],
   "source": [
    "from icecream import ic\n",
    "import kglab\n",
    "\n",
    "namespaces = {\n",
    "    \"ex\":  \"http://example.com/\",\n",
    "    }\n",
    "\n",
    "kg = kglab.KnowledgeGraph(\n",
    "    name = \"A KG example with students and sports\",\n",
    "    namespaces = namespaces,\n",
    "    )\n",
    "\n",
    "kg.materialize(config);"
   ]
  },
  {
   "cell_type": "markdown",
   "metadata": {},
   "source": [
    "Data can be loaded from multiple text formats, e.g. CSV, JSON, XML, Parquet, and also through different relational DBMS such as PostgresSQL, MySQL, Oracle, Microsoft SQL Server, MariaDB, and so on."
   ]
  },
  {
   "cell_type": "markdown",
   "metadata": {},
   "source": [
    "Now let's try to query!"
   ]
  },
  {
   "cell_type": "code",
   "execution_count": 18,
   "metadata": {
    "scrolled": true
   },
   "outputs": [
    {
     "name": "stderr",
     "output_type": "stream",
     "text": [
      "ic| student_name: 'Fernando', sport_desc: 'Formula1'\n",
      "ic| student_name: 'Fernando', sport_desc: 'Football'\n",
      "ic| student_name: 'David', sport_desc: 'Football'\n",
      "ic| student_name: 'Venus', sport_desc: 'Tennis'\n"
     ]
    }
   ],
   "source": [
    "sparql = \"\"\"\n",
    "PREFIX ex: <http://example.com/>\n",
    "\n",
    "SELECT ?student_name ?sport_desc\n",
    "WHERE {\n",
    "  ?student rdf:type ex:Student .\n",
    "  ?student ex:firstName ?student_name .\n",
    "  ?student ex:plays ?sport .\n",
    "  ?sport ex:description ?sport_desc\n",
    "}\n",
    "    \"\"\"\n",
    "\n",
    "for row in kg._g.query(sparql):\n",
    "    student_name = kg.n3fy(row.student_name)\n",
    "    sport_desc = kg.n3fy(row.sport_desc)\n",
    "    ic(student_name, sport_desc)"
   ]
  }
 ],
 "metadata": {
  "kernelspec": {
   "display_name": "Python 3",
   "language": "python",
   "name": "python3"
  },
  "language_info": {
   "codemirror_mode": {
    "name": "ipython",
    "version": 3
   },
   "file_extension": ".py",
   "mimetype": "text/x-python",
   "name": "python",
   "nbconvert_exporter": "python",
   "pygments_lexer": "ipython3",
   "version": "3.9.10"
  }
 },
 "nbformat": 4,
 "nbformat_minor": 4
}
