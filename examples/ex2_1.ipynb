{
 "cells": [
  {
   "cell_type": "code",
   "execution_count": 1,
   "metadata": {},
   "outputs": [],
   "source": [
    "# for use in tutorial and development; do not include this `sys.path` change in production:\n",
    "import sys ; sys.path.insert(0, \"../\")\n",
    "import os"
   ]
  },
  {
   "cell_type": "markdown",
   "metadata": {},
   "source": [
    "**WIP** during integration"
   ]
  },
  {
   "cell_type": "markdown",
   "metadata": {},
   "source": [
    "# Load data via Morph-KGC\n",
    "\n",
    "> [`morph-kgc`](https://github.com/oeg-upm/morph-kgc) is an engine that constructs RDF knowledge graphs from heterogeneous data sources with [R2RML](https://www.w3.org/2001/sw/rdb2rdf/r2rml/) and [RML](https://rml.io/specs/rml/) mapping languages. Morph-KGC is built on top of pandas and it leverages mapping partitions to significantly reduce execution times and memory consumption for large data sources.\n",
    "\n",
    "For documentation see <https://github.com/oeg-upm/Morph-KGC/wiki/Usage>"
   ]
  },
  {
   "cell_type": "markdown",
   "metadata": {},
   "source": [
    "This example uses a simple SQLite database with students and sports and transforms it to an RDF knowledge graph using an R2RML mapping.\n",
    "\n",
    "First, let's visualize the sample database."
   ]
  },
  {
   "cell_type": "raw",
   "metadata": {},
   "source": [
    "CREATE TABLE \"Student\" (\n",
    "  \"ID\" integer PRIMARY KEY,\n",
    "  \"FirstName\" varchar(50),\n",
    "  \"LastName\" varchar(50)\n",
    ");\n",
    "\n",
    "CREATE TABLE \"Sport\" (\n",
    "  \"ID\" integer PRIMARY KEY,\n",
    "  \"Description\" varchar(50)\n",
    ");\n",
    "\n",
    "CREATE TABLE \"Student_Sport\" (\n",
    "  \"ID_Student\" integer,\n",
    "  \"ID_Sport\" integer,\n",
    "  PRIMARY KEY (\"ID_Student\",\"ID_Sport\"),\n",
    "  FOREIGN KEY (\"ID_Student\") REFERENCES \"Student\"(\"ID\"),\n",
    "  FOREIGN KEY (\"ID_Sport\") REFERENCES \"Sport\"(\"ID\")\n",
    ");\n",
    "\n",
    "INSERT INTO \"Student\" (\"ID\",\"FirstName\",\"LastName\") VALUES (10,'Venus', 'Williams');\n",
    "INSERT INTO \"Student\" (\"ID\",\"FirstName\",\"LastName\") VALUES (11,'Fernando', 'Alonso');\n",
    "INSERT INTO \"Student\" (\"ID\",\"FirstName\",\"LastName\") VALUES (12,'David', 'Villa');\n",
    "\n",
    "INSERT INTO \"Sport\" (\"ID\", \"Description\") VALUES (110,'Tennis');\n",
    "INSERT INTO \"Sport\" (\"ID\", \"Description\") VALUES (111,'Football');\n",
    "INSERT INTO \"Sport\" (\"ID\", \"Description\") VALUES (112,'Formula1');\n",
    "\n",
    "INSERT INTO \"Student_Sport\" (\"ID_Student\", \"ID_Sport\") VALUES (10,110);\n",
    "INSERT INTO \"Student_Sport\" (\"ID_Student\", \"ID_Sport\") VALUES (11,111);\n",
    "INSERT INTO \"Student_Sport\" (\"ID_Student\", \"ID_Sport\") VALUES (11,112);\n",
    "INSERT INTO \"Student_Sport\" (\"ID_Student\", \"ID_Sport\") VALUES (12,111);"
   ]
  },
  {
   "cell_type": "markdown",
   "metadata": {},
   "source": [
    "We can see that it contains 3 tables, and some data for them.\n",
    "\n",
    "`Morph-KGC` is configured via a `config.ini` file. Let's create a basic one for our example."
   ]
  },
  {
   "cell_type": "code",
   "execution_count": 2,
   "metadata": {},
   "outputs": [],
   "source": [
    "config = f\"\"\"\n",
    "            [StudentSportDB]\n",
    "            mappings={os.path.dirname(os.getcwd())}/dat/student_sport.r2rml.ttl\n",
    "            db_url=sqlite:///{os.path.dirname(os.getcwd())}/dat/student_sport.db\n",
    "         \"\"\"\n",
    "\n",
    "# it is also possible to provide a path to the config file:\n",
    "# config = 'path/to/config.ini'"
   ]
  },
  {
   "cell_type": "markdown",
   "metadata": {},
   "source": [
    "You can see how to create this config file in the [docs](https://github.com/oeg-upm/Morph-KGC/wiki/Configuration)."
   ]
  },
  {
   "cell_type": "markdown",
   "metadata": {},
   "source": [
    "Now let's use `morph-kgc` to load the RDF data from the SQLite, based on the the `config.ini` and an R2RML mapping."
   ]
  },
  {
   "cell_type": "code",
   "execution_count": 3,
   "metadata": {},
   "outputs": [
    {
     "name": "stderr",
     "output_type": "stream",
     "text": [
      "INFO | 2022-02-25 16:50:14,340 | 7 mapping rules retrieved.\n",
      "INFO | 2022-02-25 16:50:14,358 | Mapping partition with 1 groups generated.\n",
      "INFO | 2022-02-25 16:50:14,359 | Maximum number of rules within mapping group: 7.\n",
      "INFO | 2022-02-25 16:50:14,361 | Mappings processed in 0.778 seconds.\n",
      "INFO | 2022-02-25 16:50:14,455 | Number of triples generated in total: 22.\n"
     ]
    },
    {
     "data": {
      "text/plain": [
       "<kglab.kglab.KnowledgeGraph at 0x7f7f2821f250>"
      ]
     },
     "execution_count": 3,
     "metadata": {},
     "output_type": "execute_result"
    }
   ],
   "source": [
    "from icecream import ic\n",
    "import icecream\n",
    "import kglab\n",
    "\n",
    "namespaces = {\n",
    "    \"ex\":  \"http://example.com/\",\n",
    "    }\n",
    "\n",
    "kg = kglab.KnowledgeGraph(\n",
    "    name = \"A KG example with students and sports\",\n",
    "    namespaces = namespaces,\n",
    "    )\n",
    "\n",
    "kg.materialize(config)"
   ]
  },
  {
   "cell_type": "markdown",
   "metadata": {},
   "source": [
    "Data can be loaded from multiple text formats (e.g. CSV, JSON, XML, Parquet), and also through different relational DBMS (PostgresSQL, MySQL, Oracle, Microsoft SQL Server, MariaDB)."
   ]
  },
  {
   "cell_type": "markdown",
   "metadata": {},
   "source": [
    "Now let's try to query!"
   ]
  },
  {
   "cell_type": "code",
   "execution_count": 4,
   "metadata": {
    "scrolled": true
   },
   "outputs": [
    {
     "name": "stderr",
     "output_type": "stream",
     "text": [
      "ic| row.asdict(): {'sport_desc': rdflib.term.Literal('Formula1'),\n",
      "                   'student_name': rdflib.term.Literal('Fernando')}\n",
      "ic| row.asdict(): {'sport_desc': rdflib.term.Literal('Football'),\n",
      "                   'student_name': rdflib.term.Literal('Fernando')}\n",
      "ic| row.asdict(): {'sport_desc': rdflib.term.Literal('Tennis'),\n",
      "                   'student_name': rdflib.term.Literal('Venus')}\n",
      "ic| row.asdict(): {'sport_desc': rdflib.term.Literal('Football'),\n",
      "                   'student_name': rdflib.term.Literal('David')}\n"
     ]
    }
   ],
   "source": [
    "sparql = \"\"\"\n",
    "    PREFIX ex:  <http://example.com/>\n",
    "\n",
    "    SELECT ?student_name ?sport_desc\n",
    "    WHERE {\n",
    "        ?student rdf:type ex:Student .\n",
    "        ?student ex:firstName ?student_name .\n",
    "        ?student ex:plays ?sport .\n",
    "        ?sport ex:description ?sport_desc\n",
    "    }\n",
    "    \"\"\"\n",
    "\n",
    "for row in kg._g.query(sparql):\n",
    "    ic(row.asdict())"
   ]
  }
 ],
 "metadata": {
  "kernelspec": {
   "display_name": "Python 3 (ipykernel)",
   "language": "python",
   "name": "python3"
  },
  "language_info": {
   "codemirror_mode": {
    "name": "ipython",
    "version": 3
   },
   "file_extension": ".py",
   "mimetype": "text/x-python",
   "name": "python",
   "nbconvert_exporter": "python",
   "pygments_lexer": "ipython3",
   "version": "3.8.10"
  }
 },
 "nbformat": 4,
 "nbformat_minor": 4
}
